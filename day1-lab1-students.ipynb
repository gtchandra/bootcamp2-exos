{
 "cells": [
  {
   "cell_type": "markdown",
   "id": "4f53f059-3e95-4fb9-81c5-be895c5503e6",
   "metadata": {},
   "source": [
    "### 1) For the program below write down the expected output. Check your answer by copying the code, pasting it into your Python editor and running the program."
   ]
  },
  {
   "cell_type": "code",
   "execution_count": 7,
   "id": "fd1ebdcd-e63d-4080-b09d-85809eeb99f9",
   "metadata": {},
   "outputs": [
    {
     "data": {
      "text/plain": [
       "'\\nw = 2\\nx = 5\\ny = 7\\n\\na = w + y\\nb = y - w\\nc = y % x\\nd = y // w\\ne = y ** w\\nf = w * x\\ng = y / x\\nprint(a,b,c,d,e,f,g)\\n'"
      ]
     },
     "execution_count": 7,
     "metadata": {},
     "output_type": "execute_result"
    }
   ],
   "source": [
    "\"\"\"\n",
    "w = 2\n",
    "x = 5\n",
    "y = 7\n",
    "\n",
    "a = w + y\n",
    "b = y - w\n",
    "c = y % x\n",
    "d = y // w\n",
    "e = y ** w\n",
    "f = w * x\n",
    "g = y / x\n",
    "print(a,b,c,d,e,f,g)\n",
    "\"\"\""
   ]
  },
  {
   "cell_type": "markdown",
   "id": "8d0f418c-ce80-497e-b1e6-90681cabd931",
   "metadata": {},
   "source": [
    "### 2) count the word \"the\" inside this string: \"the quick brown fox jump over the lazy dog\" "
   ]
  },
  {
   "cell_type": "code",
   "execution_count": 1,
   "id": "d0e147d9-d572-4ebc-82a0-04277904c668",
   "metadata": {},
   "outputs": [],
   "source": [
    "a='the quick brown fox jump over the lazy dog for the first time'"
   ]
  },
  {
   "cell_type": "markdown",
   "id": "cb46ce10-4351-4a00-9888-deca78b9d1bd",
   "metadata": {},
   "source": [
    "### 5) print the downward half-pyramid pattern with stars\n",
    "\n",
    "\\*\\*\\*\\*\\*<br/>\n",
    "\\*\\*\\*\\*<br/>\n",
    "\\*\\*\\*<br/>\n",
    "\\*\\*<br/>\n",
    "\\*<br/>\n"
   ]
  },
  {
   "cell_type": "markdown",
   "id": "f36f800f-6fce-4f21-83f3-4c7fde0b9cf3",
   "metadata": {},
   "source": [
    "### 6) Write a program that asks users to enter their percentage mark for a module of study.  The program prints the module grade as either A, B, C, D, E or F depending on the percentage mark entered."
   ]
  },
  {
   "cell_type": "markdown",
   "id": "0b5bb629-00ff-4ff0-97af-9b67613692aa",
   "metadata": {},
   "source": [
    "A mark of 80% and above is awarded an A.\n",
    "\n",
    "A mark in the range of 70% through to 79% is awarded a B.\n",
    "\n",
    "A mark in the range of 60% through to 69% is awarded a C.\n",
    "\n",
    "A mark in the range of 50% through to 59% is awarded a D.\n",
    "\n",
    "A mark in the range of 40% through to 49% is awarded a E.\n",
    "\n",
    "Marks less than 40% are awarded an F."
   ]
  },
  {
   "cell_type": "markdown",
   "id": "9cce844b-bc4c-4877-a564-da724566026e",
   "metadata": {},
   "source": [
    "### 7) Use the Python range function to populate a Python list with the following arithmetic progressions. Print each list to the Visual Display Screen to confirm or otherwise your answer."
   ]
  },
  {
   "cell_type": "markdown",
   "id": "22ced477-f1b3-49d7-9fa6-a3b20de630bd",
   "metadata": {},
   "source": [
    "[110, 112, 114, 116, 118, 120, 122, 124, 126, 128]\n",
    "\n",
    "[140, 138, 136, 134, 132, 130, 128, 126, 124, 122]\n",
    "\n",
    "[-50, -48, -46, -44, -42, -40, -38, -36, -34, -32]\n",
    "\n",
    "​[-20, -17, -14, -11, -8, -5, -2, 1, 4, 7, 10, 13, 16, 19, 22, 25, 28]\n",
    "\n",
    "[-20, -23, -26, -29]"
   ]
  },
  {
   "cell_type": "markdown",
   "id": "51547016-9b05-44cd-90fe-ff94d49de0f7",
   "metadata": {},
   "source": [
    "### 8) Build a function that will identify whether a number is negative returning a boolean value\n",
    "example: even(5)\n",
    "False"
   ]
  }
 ],
 "metadata": {
  "kernelspec": {
   "display_name": "Python 3",
   "language": "python",
   "name": "python3"
  },
  "language_info": {
   "codemirror_mode": {
    "name": "ipython",
    "version": 3
   },
   "file_extension": ".py",
   "mimetype": "text/x-python",
   "name": "python",
   "nbconvert_exporter": "python",
   "pygments_lexer": "ipython3",
   "version": "3.8.8"
  }
 },
 "nbformat": 4,
 "nbformat_minor": 5
}
