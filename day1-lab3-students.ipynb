{
 "cells": [
  {
   "cell_type": "code",
   "execution_count": 17,
   "id": "04091b52-30d1-4626-9e8b-4c4537b235cb",
   "metadata": {},
   "outputs": [],
   "source": [
    "numbers = [10, 45, 20, 67, 29, 12, 15, 99, 40, 23]\n",
    "\n",
    "# Repalce the \"None\" values with your solutions\n",
    "last_number = None\n",
    "before_last_number = None\n",
    "first_number = None\n",
    "seventh_number = None\n",
    "first_five_numbers = None\n",
    "last_three_numbers = None\n",
    "# Get the numbers from the third number (inclusive) to the sixth number (inclusive)\n",
    "third_to_sixth_numbers = None\n",
    "reversed_numbers = None\n"
   ]
  },
  {
   "cell_type": "code",
   "execution_count": 30,
   "id": "2df8caf5-07b1-4891-b6da-fbba0f8a8168",
   "metadata": {},
   "outputs": [],
   "source": [
    "import nose"
   ]
  },
  {
   "cell_type": "code",
   "execution_count": 42,
   "id": "855bd627-9e38-4e6b-8415-0e494b615521",
   "metadata": {},
   "outputs": [],
   "source": [
    "\n",
    "# Tests\n",
    "nose.tools.assert_equal(23, last_number)\n",
    "nose.tools.assert_equal(40, before_last_number)\n",
    "nose.tools.assert_equal(10, first_number)\n",
    "nose.tools.assert_equal(15, seventh_number)\n",
    "nose.tools.assert_sequence_equal([10, 45, 20, 67, 29], first_five_numbers)\n",
    "nose.tools.assert_sequence_equal([99, 40, 23], last_three_numbers)\n",
    "nose.tools.assert_sequence_equal([20, 67, 29, 12], third_to_sixth_numbers)\n",
    "nose.tools.assert_sequence_equal([23, 40, 99, 15, 12, 29, 67, 20, 45, 10], reversed_numbers)"
   ]
  },
  {
   "cell_type": "code",
   "execution_count": null,
   "id": "12a17cc6-62d6-40f6-bb52-5cf64cef9c15",
   "metadata": {},
   "outputs": [],
   "source": []
  }
 ],
 "metadata": {
  "kernelspec": {
   "display_name": "Python 3",
   "language": "python",
   "name": "python3"
  },
  "language_info": {
   "codemirror_mode": {
    "name": "ipython",
    "version": 3
   },
   "file_extension": ".py",
   "mimetype": "text/x-python",
   "name": "python",
   "nbconvert_exporter": "python",
   "pygments_lexer": "ipython3",
   "version": "3.8.8"
  }
 },
 "nbformat": 4,
 "nbformat_minor": 5
}
