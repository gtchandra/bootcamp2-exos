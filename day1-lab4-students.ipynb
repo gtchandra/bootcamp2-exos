{
 "cells": [
  {
   "cell_type": "markdown",
   "id": "a71882bb-8634-4c33-86ac-af3a777aeb10",
   "metadata": {},
   "source": [
    "\n",
    "# let's try to plot the Iris Dataset from here"
   ]
  },
  {
   "cell_type": "code",
   "execution_count": 3,
   "id": "f855d9c8-282d-418c-b365-90c3581b118d",
   "metadata": {},
   "outputs": [],
   "source": [
    "import matplotlib.pyplot as plt\n",
    "from  sklearn.datasets import load_iris\n",
    "iris=load_iris()\n"
   ]
  },
  {
   "cell_type": "markdown",
   "id": "3e705632-f7da-45a0-bd18-2980810a7b7a",
   "metadata": {},
   "source": [
    "## First examine the data structure, print the DESCR to better understand the content\n",
    "```\n",
    "iris.data\n",
    "iris.feature_names\n",
    "iris.target\n",
    "```"
   ]
  },
  {
   "cell_type": "markdown",
   "id": "d35a9c84-5e45-40f1-8b83-fb845cabb2af",
   "metadata": {},
   "source": [
    "## then move to data and slice the multidmensional array according to what you want to plot.\n",
    "Hint: plot on the X axis the petal length and on Y axis petal, but make sure you plot each time for a specific target class, so to use 3 different colors as a way to distinguish classes. The final plot should be similar to the one on the **RIGHT** of this picture\n",
    "\n",
    "![](https://constantgeeks.files.wordpress.com/2019/09/2bea2-iris_plots_before.jpg)"
   ]
  },
  {
   "cell_type": "code",
   "execution_count": null,
   "id": "36ae1461-9d8d-4021-841d-01e17aab79a5",
   "metadata": {},
   "outputs": [],
   "source": []
  }
 ],
 "metadata": {
  "kernelspec": {
   "display_name": "Python 3",
   "language": "python",
   "name": "python3"
  },
  "language_info": {
   "codemirror_mode": {
    "name": "ipython",
    "version": 3
   },
   "file_extension": ".py",
   "mimetype": "text/x-python",
   "name": "python",
   "nbconvert_exporter": "python",
   "pygments_lexer": "ipython3",
   "version": "3.8.8"
  }
 },
 "nbformat": 4,
 "nbformat_minor": 5
}
